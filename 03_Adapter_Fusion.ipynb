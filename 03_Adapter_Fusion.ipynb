{
  "cells": [
    {
      "cell_type": "markdown",
      "metadata": {
        "id": "mI6aVBQRy6LC"
      },
      "source": [
        "# 3️⃣ Combining Pre-Trained Adapters using AdapterFusion\n",
        "\n",
        "In [the previous notebook](https://colab.research.google.com/github/Adapter-Hub/adapters/blob/master/notebooks/02_Adapter_Inference.ipynb), we loaded a single pre-trained adapter from _AdapterHub_. Now we will explore how to take advantage of multiple pre-trained adapters to combine their knowledge on a new task. This setup is called **AdapterFusion** ([Pfeiffer et al., 2020](https://arxiv.org/pdf/2005.00247.pdf)).\n",
        "\n",
        "For this guide, we select **CommitmentBank** ([De Marneffe et al., 2019](https://github.com/mcdm/CommitmentBank)), a three-class textual entailment dataset, as our target task. We will fuse [adapters from AdapterHub](https://adapterhub.ml/explore/) which were pre-trained on different tasks. During training, their represantions are kept fix while a newly introduced fusion layer is trained. As our base model, we will use BERT (`bert-base-uncased`)."
      ]
    },
    {
      "cell_type": "markdown",
      "metadata": {
        "id": "3L9gYpCV28OA"
      },
      "source": [
        "## Installation\n",
        "\n",
        "Again, we install `adapters` and HuggingFace's `datasets` library first:"
      ]
    },
    {
      "cell_type": "code",
      "execution_count": 1,
      "metadata": {
        "id": "qL3Sq1HQynCq",
        "ExecuteTime": {
          "end_time": "2023-08-17T12:14:47.927413900Z",
          "start_time": "2023-08-17T12:14:42.946988300Z"
        }
      },
      "outputs": [],
      "source": [
        "!pip install -Uq adapters\n",
        "!pip install -q datasets\n",
        "!pip install -q accelerate"
      ]
    },
    {
      "cell_type": "markdown",
      "metadata": {
        "id": "fP9OMSUT-FtL"
      },
      "source": [
        "## Dataset Preprocessing\n",
        "\n",
        "Before setting up training, we first prepare the training data. CommimentBank is part of the SuperGLUE benchmark and can be loaded via HuggingFace `datasets` using one line of code:"
      ]
    },
    {
      "cell_type": "code",
      "execution_count": 2,
      "metadata": {
        "colab": {
          "base_uri": "https://localhost:8080/"
        },
        "id": "INW7UEhC-I6b",
        "outputId": "12f3b8a8-5960-4eb2-d369-669a785d4b08",
        "ExecuteTime": {
          "end_time": "2023-08-17T09:10:12.742774300Z",
          "start_time": "2023-08-17T09:10:06.346891800Z"
        }
      },
      "outputs": [
        {
          "output_type": "execute_result",
          "data": {
            "text/plain": [
              "{'train': 250, 'validation': 56, 'test': 250}"
            ]
          },
          "metadata": {},
          "execution_count": 2
        }
      ],
      "source": [
        "from datasets import load_dataset\n",
        "\n",
        "dataset = load_dataset(\"super_glue\", \"cb\")\n",
        "dataset.num_rows"
      ]
    },
    {
      "cell_type": "markdown",
      "metadata": {
        "id": "epiKaEz5dDVe"
      },
      "source": [
        "Every dataset sample has a premise, a hypothesis and a three-class class label:"
      ]
    },
    {
      "cell_type": "code",
      "execution_count": 3,
      "metadata": {
        "colab": {
          "base_uri": "https://localhost:8080/"
        },
        "id": "ifu4q5IJ-hYI",
        "outputId": "fcbcf0e4-1134-421b-ec54-6d0182bc758d",
        "ExecuteTime": {
          "end_time": "2023-08-17T09:10:20.713443200Z",
          "start_time": "2023-08-17T09:10:20.698484900Z"
        }
      },
      "outputs": [
        {
          "output_type": "execute_result",
          "data": {
            "text/plain": [
              "{'premise': Value(dtype='string', id=None),\n",
              " 'hypothesis': Value(dtype='string', id=None),\n",
              " 'idx': Value(dtype='int32', id=None),\n",
              " 'label': ClassLabel(names=['entailment', 'contradiction', 'neutral'], id=None)}"
            ]
          },
          "metadata": {},
          "execution_count": 3
        }
      ],
      "source": [
        "dataset['train'].features"
      ]
    },
    {
      "cell_type": "markdown",
      "metadata": {
        "id": "uVa3Vk0QdNYI"
      },
      "source": [
        "Now, we need to encode all dataset samples to valid inputs for our `bert-base-uncased` model. Using `dataset.map()`, we can pass the full dataset through the tokenizer in batches:"
      ]
    },
    {
      "cell_type": "code",
      "execution_count": 4,
      "metadata": {
        "id": "hEnRCQfE_Oi3",
        "ExecuteTime": {
          "end_time": "2023-08-17T09:10:30.595995300Z",
          "start_time": "2023-08-17T09:10:26.589718800Z"
        }
      },
      "outputs": [],
      "source": [
        "from transformers import BertTokenizer\n",
        "\n",
        "tokenizer = BertTokenizer.from_pretrained(\"bert-base-uncased\")\n",
        "\n",
        "def encode_batch(batch):\n",
        "  \"\"\"Encodes a batch of input data using the model tokenizer.\"\"\"\n",
        "  return tokenizer(\n",
        "      batch[\"premise\"],\n",
        "      batch[\"hypothesis\"],\n",
        "      max_length=180,\n",
        "      truncation=True,\n",
        "      padding=\"max_length\"\n",
        "  )\n",
        "\n",
        "# Encode the input data\n",
        "dataset = dataset.map(encode_batch, batched=True)\n",
        "# The transformers model expects the target class column to be named \"labels\"\n",
        "dataset = dataset.rename_column(\"label\", \"labels\")\n",
        "# Transform to pytorch tensors and only output the required columns\n",
        "dataset.set_format(type=\"torch\", columns=[\"input_ids\", \"attention_mask\", \"labels\"])"
      ]
    },
    {
      "cell_type": "markdown",
      "metadata": {
        "id": "TsXEy1TNeAnI"
      },
      "source": [
        "New we're ready to setup AdapterFusion..."
      ]
    },
    {
      "cell_type": "markdown",
      "metadata": {
        "id": "Xs21MzEQ_0v4"
      },
      "source": [
        "## Fusion Training\n",
        "\n",
        "We use a pre-trained BERT model from HuggingFace and instantiate our model using `BertAdapterModel`."
      ]
    },
    {
      "cell_type": "code",
      "execution_count": 5,
      "metadata": {
        "id": "fnq8n_KP_3aX",
        "ExecuteTime": {
          "end_time": "2023-08-17T09:11:01.706736300Z",
          "start_time": "2023-08-17T09:10:59.697115300Z"
        }
      },
      "outputs": [],
      "source": [
        "from transformers import BertConfig\n",
        "from adapters import BertAdapterModel\n",
        "\n",
        "id2label = {id: label for (id, label) in enumerate(dataset[\"train\"].features[\"labels\"].names)}\n",
        "\n",
        "config = BertConfig.from_pretrained(\n",
        "    \"bert-base-uncased\",\n",
        "    id2label=id2label,\n",
        ")\n",
        "model = BertAdapterModel.from_pretrained(\n",
        "    \"bert-base-uncased\",\n",
        "    config=config,\n",
        ")"
      ]
    },
    {
      "cell_type": "markdown",
      "metadata": {
        "id": "BDCNJzTXezcn"
      },
      "source": [
        "Now we have everything set up to load our _AdapterFusion_ setup. First, we load three adapters pre-trained on different tasks from the Hub: MultiNLI, QQP and QNLI. As we don't need their prediction heads, we pass `with_head=False` to the loading method. Next, we add a new fusion layer that combines all the adapters we've just loaded. Finally, we add a new classification head for our target task on top."
      ]
    },
    {
      "cell_type": "code",
      "execution_count": 6,
      "metadata": {
        "id": "jRqbBgS0BoHJ",
        "ExecuteTime": {
          "end_time": "2023-08-17T09:11:36.098695Z",
          "start_time": "2023-08-17T09:11:27.950502200Z"
        }
      },
      "outputs": [],
      "source": [
        "from adapters.composition import Fuse\n",
        "\n",
        "# Load the pre-trained adapters we want to fuse\n",
        "model.load_adapter(\"nli/multinli@ukp\", load_as=\"multinli\", with_head=False)\n",
        "model.load_adapter(\"sts/qqp@ukp\", with_head=False)\n",
        "model.load_adapter(\"nli/qnli@ukp\", with_head=False)\n",
        "# Add a fusion layer for all loaded adapters\n",
        "model.add_adapter_fusion(Fuse(\"multinli\", \"qqp\", \"qnli\"))\n",
        "model.set_active_adapters(Fuse(\"multinli\", \"qqp\", \"qnli\"))\n",
        "\n",
        "# Add a classification head for our target task\n",
        "model.add_classification_head(\"cb\", num_labels=len(id2label))"
      ]
    },
    {
      "cell_type": "markdown",
      "metadata": {
        "id": "60qIas8-il92"
      },
      "source": [
        "The last preparation step is to define and activate our adapter setup. Similar to `train_adapter()`, `train_adapter_fusion()` does two things: It freezes all weights of the model (including adapters!) except for the fusion layer and classification head. It also activates the given adapter setup to be used in very forward pass.\n",
        "\n",
        "The syntax for the adapter setup (which is also applied to other methods such as `set_active_adapters()`) works as follows:\n",
        "\n",
        "- a single string is interpreted as a single adapter\n",
        "- a list of strings is interpreted as a __stack__ of adapters\n",
        "- a _nested_ list of strings is interpreted as a __fusion__ of adapters"
      ]
    },
    {
      "cell_type": "code",
      "execution_count": 7,
      "metadata": {
        "id": "zgGqHJQbijgg",
        "ExecuteTime": {
          "end_time": "2023-08-17T09:12:05.113045600Z",
          "start_time": "2023-08-17T09:12:05.083127700Z"
        }
      },
      "outputs": [],
      "source": [
        "# Unfreeze and activate fusion setup\n",
        "adapter_setup = Fuse(\"multinli\", \"qqp\", \"qnli\")\n",
        "model.train_adapter_fusion(adapter_setup)"
      ]
    },
    {
      "cell_type": "markdown",
      "metadata": {
        "id": "Fb8BY5RAmzkd"
      },
      "source": [
        "For training, we make use of the `AdapterTrainer` class built-in into `adapters`. We configure the training process using a `TrainingArguments` object and define a method that will calculate the evaluation accuracy in the end. We pass both, together with the training and validation split of our dataset, to the trainer instance."
      ]
    },
    {
      "cell_type": "code",
      "execution_count": 8,
      "metadata": {
        "id": "j0gFxQRdDkQ6",
        "ExecuteTime": {
          "end_time": "2023-08-17T09:12:34.639028100Z",
          "start_time": "2023-08-17T09:12:34.319882200Z"
        }
      },
      "outputs": [],
      "source": [
        "import numpy as np\n",
        "from transformers import TrainingArguments, EvalPrediction\n",
        "from adapters import AdapterTrainer\n",
        "\n",
        "training_args = TrainingArguments(\n",
        "    learning_rate=5e-5,\n",
        "    num_train_epochs=5,\n",
        "    per_device_train_batch_size=32,\n",
        "    per_device_eval_batch_size=32,\n",
        "    logging_steps=200,\n",
        "    output_dir=\"./training_output\",\n",
        "    overwrite_output_dir=True,\n",
        "    # The next line is important to ensure the dataset labels are properly passed to the model\n",
        "    remove_unused_columns=False,\n",
        ")\n",
        "\n",
        "def compute_accuracy(p: EvalPrediction):\n",
        "  preds = np.argmax(p.predictions, axis=1)\n",
        "  return {\"acc\": (preds == p.label_ids).mean()}\n",
        "\n",
        "trainer = AdapterTrainer(\n",
        "    model=model,\n",
        "    args=training_args,\n",
        "    train_dataset=dataset[\"train\"],\n",
        "    eval_dataset=dataset[\"validation\"],\n",
        "    compute_metrics=compute_accuracy,\n",
        ")"
      ]
    },
    {
      "cell_type": "markdown",
      "metadata": {
        "id": "iKlYjA9rm2Kp"
      },
      "source": [
        "Start the training 🚀 (this will take a while)"
      ]
    },
    {
      "cell_type": "code",
      "execution_count": 9,
      "metadata": {
        "colab": {
          "base_uri": "https://localhost:8080/",
          "height": 165
        },
        "id": "vSUs2FjXDmsx",
        "outputId": "ab2ca72e-d617-4e64-9ea4-49fd41a2ac9f",
        "ExecuteTime": {
          "end_time": "2023-08-17T09:13:43.869798100Z",
          "start_time": "2023-08-17T09:12:46.140248700Z"
        }
      },
      "outputs": [
        {
          "output_type": "stream",
          "name": "stderr",
          "text": [
            "/usr/local/lib/python3.10/dist-packages/transformers/optimization.py:411: FutureWarning: This implementation of AdamW is deprecated and will be removed in a future version. Use the PyTorch implementation torch.optim.AdamW instead, or set `no_deprecation_warning=True` to disable this warning\n",
            "  warnings.warn(\n"
          ]
        },
        {
          "output_type": "display_data",
          "data": {
            "text/plain": [
              "<IPython.core.display.HTML object>"
            ],
            "text/html": [
              "\n",
              "    <div>\n",
              "      \n",
              "      <progress value='40' max='40' style='width:300px; height:20px; vertical-align: middle;'></progress>\n",
              "      [40/40 00:41, Epoch 5/5]\n",
              "    </div>\n",
              "    <table border=\"1\" class=\"dataframe\">\n",
              "  <thead>\n",
              " <tr style=\"text-align: left;\">\n",
              "      <th>Step</th>\n",
              "      <th>Training Loss</th>\n",
              "    </tr>\n",
              "  </thead>\n",
              "  <tbody>\n",
              "  </tbody>\n",
              "</table><p>"
            ]
          },
          "metadata": {}
        },
        {
          "output_type": "execute_result",
          "data": {
            "text/plain": [
              "TrainOutput(global_step=40, training_loss=0.8603550910949707, metrics={'train_runtime': 47.0613, 'train_samples_per_second': 26.561, 'train_steps_per_second': 0.85, 'total_flos': 148736480850000.0, 'train_loss': 0.8603550910949707, 'epoch': 5.0})"
            ]
          },
          "metadata": {},
          "execution_count": 9
        }
      ],
      "source": [
        "trainer.train()"
      ]
    },
    {
      "cell_type": "markdown",
      "metadata": {
        "id": "axvDsmnJnGUG"
      },
      "source": [
        "After completed training, let's check how well our setup performs on the validation set of our target dataset:"
      ]
    },
    {
      "cell_type": "code",
      "execution_count": 10,
      "metadata": {
        "colab": {
          "base_uri": "https://localhost:8080/",
          "height": 141
        },
        "id": "PqcApZ_-DpwK",
        "outputId": "f83a72f6-bd16-4d87-f6e1-f39aafee2917",
        "ExecuteTime": {
          "end_time": "2023-08-17T09:13:50.616742100Z",
          "start_time": "2023-08-17T09:13:47.526014400Z"
        }
      },
      "outputs": [
        {
          "output_type": "display_data",
          "data": {
            "text/plain": [
              "<IPython.core.display.HTML object>"
            ],
            "text/html": [
              "\n",
              "    <div>\n",
              "      \n",
              "      <progress value='2' max='2' style='width:300px; height:20px; vertical-align: middle;'></progress>\n",
              "      [2/2 00:00]\n",
              "    </div>\n",
              "    "
            ]
          },
          "metadata": {}
        },
        {
          "output_type": "execute_result",
          "data": {
            "text/plain": [
              "{'eval_loss': 0.8675440549850464,\n",
              " 'eval_acc': 0.6607142857142857,\n",
              " 'eval_runtime': 0.9295,\n",
              " 'eval_samples_per_second': 60.25,\n",
              " 'eval_steps_per_second': 2.152,\n",
              " 'epoch': 5.0}"
            ]
          },
          "metadata": {},
          "execution_count": 10
        }
      ],
      "source": [
        "trainer.evaluate()"
      ]
    },
    {
      "cell_type": "markdown",
      "metadata": {
        "id": "op8M7AfYnWhs"
      },
      "source": [
        "We can also use our setup to make some predictions (the example is from the test set of CB):"
      ]
    },
    {
      "cell_type": "code",
      "execution_count": 11,
      "metadata": {
        "colab": {
          "base_uri": "https://localhost:8080/",
          "height": 35
        },
        "id": "e9wQcaNLNPAT",
        "outputId": "28fcbc78-0005-4591-d944-ea73c906f273",
        "ExecuteTime": {
          "end_time": "2023-08-17T09:19:10.426805700Z",
          "start_time": "2023-08-17T09:19:10.185453300Z"
        }
      },
      "outputs": [
        {
          "output_type": "execute_result",
          "data": {
            "text/plain": [
              "'entailment'"
            ],
            "application/vnd.google.colaboratory.intrinsic+json": {
              "type": "string"
            }
          },
          "metadata": {},
          "execution_count": 11
        }
      ],
      "source": [
        "import torch\n",
        "\n",
        "def predict(premise, hypothesis):\n",
        "  encoded = tokenizer(premise, hypothesis, return_tensors=\"pt\")\n",
        "  if torch.cuda.is_available():\n",
        "    encoded.to(\"cuda\")\n",
        "  logits = model(**encoded)[0]\n",
        "  pred_class = torch.argmax(logits).item()\n",
        "  return id2label[pred_class]\n",
        "\n",
        "predict(\"\"\"\n",
        "``It doesn't happen very often.'' Karen went home\n",
        "happy at the end of the day. She didn't think that\n",
        "the work was difficult.\n",
        "\"\"\",\n",
        "\"the work was difficult\"\n",
        ")"
      ]
    },
    {
      "cell_type": "markdown",
      "metadata": {
        "id": "H-fJK8OtnrAu"
      },
      "source": [
        "Finally, we can extract and save our fusion layer as well as all the adapters we used for training. Both can later be reloaded into the pre-trained model again."
      ]
    },
    {
      "cell_type": "code",
      "execution_count": 12,
      "metadata": {
        "colab": {
          "base_uri": "https://localhost:8080/"
        },
        "id": "YpHIRIHxJd5d",
        "outputId": "f6a7ed99-dc46-4331-c7d6-907508182ad0",
        "ExecuteTime": {
          "end_time": "2023-08-17T09:21:24.639621300Z",
          "start_time": "2023-08-17T09:21:24.413228700Z"
        }
      },
      "outputs": [
        {
          "output_type": "stream",
          "name": "stdout",
          "text": [
            "total 83056\n",
            "-rw-r--r-- 1 root root      427 Aug 24 13:49 adapter_fusion_config.json\n",
            "drwxr-xr-x 2 root root     4096 Aug 24 13:49 multinli\n",
            "-rw-r--r-- 1 root root 85031623 Aug 24 13:49 pytorch_model_adapter_fusion.bin\n",
            "drwxr-xr-x 2 root root     4096 Aug 24 13:49 qnli\n",
            "drwxr-xr-x 2 root root     4096 Aug 24 13:49 qqp\n"
          ]
        }
      ],
      "source": [
        "model.save_adapter_fusion(\"./saved\", \"multinli,qqp,qnli\")\n",
        "model.save_all_adapters(\"./saved\")\n",
        "\n",
        "!ls -l saved"
      ]
    },
    {
      "cell_type": "markdown",
      "metadata": {
        "id": "4PHWpVLApDWt"
      },
      "source": [
        "That's it. Do check out [the paper on AdapterFusion](https://arxiv.org/pdf/2005.00247.pdf) for a more theoretical view on what we've just seen.\n",
        "\n",
        "➡️ `adapters` also enables other composition methods beyond AdapterFusion. For example, check out [the next notebook in this series](https://colab.research.google.com/github/Adapter-Hub/adapters/blob/master/notebooks/04_Cross_Lingual_Transfer.ipynb) on cross-lingual transfer."
      ]
    }
  ],
  "metadata": {
    "accelerator": "GPU",
    "colab": {
      "provenance": [],
      "toc_visible": true
    },
    "kernelspec": {
      "display_name": "env",
      "language": "python",
      "name": "python3"
    },
    "language_info": {
      "codemirror_mode": {
        "name": "ipython",
        "version": 3
      },
      "file_extension": ".py",
      "mimetype": "text/x-python",
      "name": "python",
      "nbconvert_exporter": "python",
      "pygments_lexer": "ipython3",
      "version": "3.10.6"
    },
    "pycharm": {
      "stem_cell": {
        "cell_type": "raw",
        "metadata": {
          "collapsed": false
        },
        "source": []
      }
    }
  },
  "nbformat": 4,
  "nbformat_minor": 0
}